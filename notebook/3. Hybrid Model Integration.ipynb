{
 "cells": [
  {
   "cell_type": "code",
   "execution_count": 1,
   "id": "a10225f6",
   "metadata": {},
   "outputs": [],
   "source": [
    "import pandas as pd\n",
    "import numpy as np\n",
    "from sklearn.preprocessing import MinMaxScaler\n",
    "\n",
    "def hybrid_recommendations(user_id, movie_title, ratings, movies, svd, cosine_sim, n=10, content_w=0.5, collab_w=0.5):\n",
    "    try:\n",
    "        content_recs = get_content_recommendations(movie_title, movies, cosine_sim, n)\n",
    "        collab_recs = get_collab_recommendations(user_id, ratings, movies, svd, n)\n",
    "        if content_recs.empty and collab_recs.empty:\n",
    "            print(\"Both content-based and collaborative recommendations failed.\")\n",
    "            return pd.DataFrame()\n",
    "        merged_recs = pd.concat([content_recs, collab_recs], ignore_index=True).drop_duplicates(subset='movieId')\n",
    "        if merged_recs.empty:\n",
    "            print(\"No recommendations after merging.\")\n",
    "            return pd.DataFrame()\n",
    "        scaler = MinMaxScaler()\n",
    "        merged_recs[['content_score', 'collab_score']] = scaler.fit_transform(merged_recs[['content_score', 'collab_score']].fillna(0))\n",
    "        merged_recs['hybrid_score'] = content_w * merged_recs['content_score'] + collab_w * merged_recs['collab_score']\n",
    "        return merged_recs[['movieId', 'title', 'genres', 'hybrid_score']].sort_values(by='hybrid_score', ascending=False).head(n)\n",
    "    except Exception as e:\n",
    "        print(f\"Error in hybrid recommendations: {str(e)}\")\n",
    "        return pd.DataFrame()\n",
    "\n",
    "# Note: get_content_recommendations and get_collab_recommendations are assumed to be imported or defined elsewhere"
   ]
  }
 ],
 "metadata": {
  "kernelspec": {
   "display_name": "venv",
   "language": "python",
   "name": "python3"
  },
  "language_info": {
   "codemirror_mode": {
    "name": "ipython",
    "version": 3
   },
   "file_extension": ".py",
   "mimetype": "text/x-python",
   "name": "python",
   "nbconvert_exporter": "python",
   "pygments_lexer": "ipython3",
   "version": "3.11.8"
  }
 },
 "nbformat": 4,
 "nbformat_minor": 5
}
