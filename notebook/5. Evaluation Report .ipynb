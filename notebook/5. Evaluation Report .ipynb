{
 "cells": [
  {
   "cell_type": "code",
   "execution_count": 1,
   "id": "1815ceca",
   "metadata": {},
   "outputs": [],
   "source": [
    "import numpy as np\n",
    "from surprise import accuracy\n",
    "\n",
    "def evaluate_model(ratings, predictions, testset, k=10, threshold=3.5):\n",
    "    try:\n",
    "        rmse = accuracy.rmse(predictions, verbose=False)\n",
    "        mae = accuracy.mae(predictions, verbose=False)\n",
    "        user_est_true = {}\n",
    "        for pred in predictions:\n",
    "            user_id = pred.uid\n",
    "            if user_id not in user_est_true:\n",
    "                user_est_true[user_id] = []\n",
    "            user_est_true[user_id].append((pred.est, pred.r_ui))\n",
    "        precisions, recalls = [], []\n",
    "        for user_id, user_ratings in user_est_true.items():\n",
    "            user_ratings.sort(key=lambda x: x[0], reverse=True)\n",
    "            n_rel = sum((true_r >= threshold) for (_, true_r) in user_ratings)\n",
    "            n_rec_k = sum((est >= threshold) for (est, _) in user_ratings[:k])\n",
    "            n_rel_and_rec_k = sum(((true_r >= threshold) and (est >= threshold)) for (est, true_r) in user_ratings[:k])\n",
    "            precisions.append(n_rel_and_rec_k / n_rec_k if n_rec_k != 0 else 0)\n",
    "            recalls.append(n_rel_and_rec_k / n_rel if n_rel != 0 else 0)\n",
    "        precision = np.mean(precisions)\n",
    "        recall = np.mean(recalls)\n",
    "        f1 = 2 * (precision * recall) / (precision + recall) if (precision + recall) != 0 else 0\n",
    "        return {'rmse': rmse, 'mae': mae, 'precision': precision, 'recall': recall, 'f1': f1}\n",
    "    except Exception as e:\n",
    "        print(f\"Error in model evaluation: {str(e)}\")\n",
    "        return {'rmse': np.nan, 'mae': np.nan, 'precision': 0.0, 'recall': 0.0, 'f1': 0.0}"
   ]
  }
 ],
 "metadata": {
  "kernelspec": {
   "display_name": "venv",
   "language": "python",
   "name": "python3"
  },
  "language_info": {
   "codemirror_mode": {
    "name": "ipython",
    "version": 3
   },
   "file_extension": ".py",
   "mimetype": "text/x-python",
   "name": "python",
   "nbconvert_exporter": "python",
   "pygments_lexer": "ipython3",
   "version": "3.11.8"
  }
 },
 "nbformat": 4,
 "nbformat_minor": 5
}
